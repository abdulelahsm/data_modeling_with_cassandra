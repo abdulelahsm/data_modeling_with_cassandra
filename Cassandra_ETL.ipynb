{
  "nbformat": 4,
  "nbformat_minor": 0,
  "metadata": {
    "kernelspec": {
      "display_name": "Python 3",
      "language": "python",
      "name": "python3"
    },
    "language_info": {
      "codemirror_mode": {
        "name": "ipython",
        "version": 3
      },
      "file_extension": ".py",
      "mimetype": "text/x-python",
      "name": "python",
      "nbconvert_exporter": "python",
      "pygments_lexer": "ipython3",
      "version": "3.6.3"
    },
    "colab": {
      "name": "Cassandra_ETL.ipynb",
      "provenance": []
    }
  },
  "cells": [
    {
      "cell_type": "markdown",
      "metadata": {
        "editable": true,
        "id": "ZRvPIq5Z6kr3",
        "colab_type": "text"
      },
      "source": [
        "# ETL Pipeline for Pre-Processing the Files"
      ]
    },
    {
      "cell_type": "markdown",
      "metadata": {
        "editable": true,
        "id": "A3nD4a596kr6",
        "colab_type": "text"
      },
      "source": [
        "#### Import Python packages "
      ]
    },
    {
      "cell_type": "code",
      "metadata": {
        "editable": true,
        "id": "uTyn75056kr6",
        "colab_type": "code",
        "colab": {}
      },
      "source": [
        "# Import Python packages \n",
        "import pandas as pd\n",
        "import cassandra\n",
        "import re\n",
        "import os\n",
        "import glob\n",
        "import numpy as np\n",
        "import json\n",
        "import csv"
      ],
      "execution_count": 0,
      "outputs": []
    },
    {
      "cell_type": "markdown",
      "metadata": {
        "editable": true,
        "id": "rmeE6AWx6kr9",
        "colab_type": "text"
      },
      "source": [
        "#### Creating list of filepaths to process original event csv data files"
      ]
    },
    {
      "cell_type": "code",
      "metadata": {
        "editable": true,
        "id": "EbDww7ZP6kr9",
        "colab_type": "code",
        "colab": {},
        "outputId": "b95381e3-f319-450c-8ba7-00f7c3b37268"
      },
      "source": [
        "# checking your current working directory\n",
        "print(os.getcwd())\n",
        "\n",
        "# Get your current folder and subfolder event data\n",
        "filepath = os.getcwd() + '/event_data'\n",
        "\n",
        "# Create a for loop to create a list of files and collect each filepath\n",
        "for root, dirs, files in os.walk(filepath):\n",
        "    \n",
        "# join the file path and roots with the subdirectories using glob\n",
        "    file_path_list = glob.glob(os.path.join(root,'*'))\n",
        "    #print(file_path_list)"
      ],
      "execution_count": 0,
      "outputs": [
        {
          "output_type": "stream",
          "text": [
            "/home/workspace\n"
          ],
          "name": "stdout"
        }
      ]
    },
    {
      "cell_type": "markdown",
      "metadata": {
        "editable": true,
        "id": "2UFlejFG6ksA",
        "colab_type": "text"
      },
      "source": [
        "#### Processing the files to create the data file csv that will be used for Apache Casssandra tables"
      ]
    },
    {
      "cell_type": "code",
      "metadata": {
        "editable": true,
        "id": "q9-PgQhT6ksA",
        "colab_type": "code",
        "colab": {},
        "outputId": "df5d74a4-179e-4a19-abf9-c5426e99b900"
      },
      "source": [
        "# initiating an empty list of rows that will be generated from each file\n",
        "full_data_rows_list = [] \n",
        "    \n",
        "# for every filepath in the file path list \n",
        "for f in file_path_list:\n",
        "\n",
        "# reading csv file \n",
        "    with open(f, 'r', encoding = 'utf8', newline='') as csvfile: \n",
        "        # creating a csv reader object \n",
        "        csvreader = csv.reader(csvfile) \n",
        "        next(csvreader)\n",
        "        \n",
        " # extracting each data row one by one and append it        \n",
        "        for line in csvreader:\n",
        "            #print(line)\n",
        "            full_data_rows_list.append(line) \n",
        "            \n",
        "#  total number of rows \n",
        "print(\"the total number of rows is {}\".format(len(full_data_rows_list)))\n",
        "\n",
        "\n",
        "# creating a smaller event data csv file called event_datafile_full csv that will be used to insert data into the \\\n",
        "# Apache Cassandra tables\n",
        "csv.register_dialect('myDialect', quoting=csv.QUOTE_ALL, skipinitialspace=True)\n",
        "\n",
        "with open('event_datafile_new.csv', 'w', encoding = 'utf8', newline='') as f:\n",
        "    writer = csv.writer(f, dialect='myDialect')\n",
        "    writer.writerow(['artist','firstName','gender','itemInSession','lastName','length',\\\n",
        "                'level','location','sessionId','song','userId'])\n",
        "    for row in full_data_rows_list:\n",
        "        if (row[0] == ''):\n",
        "            continue\n",
        "        writer.writerow((row[0], row[2], row[3], row[4], row[5], row[6], row[7], row[8], row[12], row[13], row[16]))\n"
      ],
      "execution_count": 0,
      "outputs": [
        {
          "output_type": "stream",
          "text": [
            "the total number of rows is 8056\n"
          ],
          "name": "stdout"
        }
      ]
    },
    {
      "cell_type": "code",
      "metadata": {
        "editable": true,
        "id": "XiPO8Ixr6ksC",
        "colab_type": "code",
        "colab": {},
        "outputId": "71cef96c-b0f6-446d-c97e-e3934d4806df"
      },
      "source": [
        "# check the number of rows in the  csv file\n",
        "with open('event_datafile_new.csv', 'r', encoding = 'utf8') as f:\n",
        "    print(sum(1 for line in f))"
      ],
      "execution_count": 0,
      "outputs": [
        {
          "output_type": "stream",
          "text": [
            "6821\n"
          ],
          "name": "stdout"
        }
      ]
    },
    {
      "cell_type": "markdown",
      "metadata": {
        "editable": true,
        "id": "PrSjdl4n6ksE",
        "colab_type": "text"
      },
      "source": [
        "The event_datafile_new.csv contains the following columns: \n",
        "- artist \n",
        "- firstName of user\n",
        "- gender of user\n",
        "- item number in session\n",
        "- last name of user\n",
        "- length of the song\n",
        "- level (paid or free song)\n",
        "- location of the user\n",
        "- sessionId\n",
        "- song title\n",
        "- userId\n",
        "\n"
      ]
    },
    {
      "cell_type": "markdown",
      "metadata": {
        "editable": true,
        "id": "D8pLbXVi6ksF",
        "colab_type": "text"
      },
      "source": [
        "## The Apache Cassandra code starts below"
      ]
    },
    {
      "cell_type": "markdown",
      "metadata": {
        "editable": true,
        "id": "Xkw9rDWH6ksF",
        "colab_type": "text"
      },
      "source": [
        "#### Creating a Cluster"
      ]
    },
    {
      "cell_type": "code",
      "metadata": {
        "editable": true,
        "id": "hxCQHxoB6ksG",
        "colab_type": "code",
        "colab": {}
      },
      "source": [
        "# Making  a connection to a Cassandra instance your local machine \n",
        "\n",
        "from cassandra.cluster import Cluster\n",
        "cluster = Cluster(['127.0.0.1'])\n",
        "\n",
        "# To establish connection and begin executing queries, need a session\n",
        "session = cluster.connect()"
      ],
      "execution_count": 0,
      "outputs": []
    },
    {
      "cell_type": "markdown",
      "metadata": {
        "editable": true,
        "id": "7y2-Dqla6ksI",
        "colab_type": "text"
      },
      "source": [
        "#### Creating Keyspace"
      ]
    },
    {
      "cell_type": "code",
      "metadata": {
        "editable": true,
        "id": "_DsX62rV6ksI",
        "colab_type": "code",
        "colab": {},
        "outputId": "39359b0a-dfa1-4da2-e024-8c992a7965cd"
      },
      "source": [
        "#Creating a Keyspace \n",
        "session.execute(\"\"\"CREATE KEYSPACE IF NOT EXISTS udacity\n",
        "    WITH REPLICATION = { 'class' : 'SimpleStrategy', 'replication_factor' : 1 }\"\"\")"
      ],
      "execution_count": 0,
      "outputs": [
        {
          "output_type": "execute_result",
          "data": {
            "text/plain": [
              "<cassandra.cluster.ResultSet at 0x7f4d7e603128>"
            ]
          },
          "metadata": {
            "tags": []
          },
          "execution_count": 12
        }
      ]
    },
    {
      "cell_type": "markdown",
      "metadata": {
        "editable": true,
        "id": "uDjHvO-K6ksK",
        "colab_type": "text"
      },
      "source": [
        "#### Set Keyspace"
      ]
    },
    {
      "cell_type": "code",
      "metadata": {
        "editable": true,
        "id": "Whl9KFz16ksK",
        "colab_type": "code",
        "colab": {}
      },
      "source": [
        "# Setting KEYSPACE to the keyspace specified above\n",
        "session.set_keyspace('udacity')\n"
      ],
      "execution_count": 0,
      "outputs": []
    },
    {
      "cell_type": "markdown",
      "metadata": {
        "editable": true,
        "id": "KOp1hLmv6ksM",
        "colab_type": "text"
      },
      "source": [
        "## queries were created below to answer the following three questions \n",
        "\n",
        "1. Give me the artist, song title and song's length in the music app history that was heard during  sessionId = 338, and itemInSession  = 4\n",
        "\n",
        "\n",
        "2. Give me only the following: name of artist, song (sorted by itemInSession) and user (first and last name) for userid = 10, sessionid = 182\n",
        "    \n",
        "\n",
        "3. Give me every user name (first and last) in my music app history who listened to the song 'All Hands Against His Own'\n",
        "\n",
        "\n"
      ]
    },
    {
      "cell_type": "code",
      "metadata": {
        "editable": true,
        "id": "otEMkPt26ksN",
        "colab_type": "code",
        "colab": {}
      },
      "source": [
        "'''the best approach to cassandra and SQL queries is to create functions that perform just that to avoid excessive number of code lines'''\n",
        "\n",
        "def execute_create_drop_query(query):\n",
        "  ''' \n",
        "  This function will act as a short cut to execute CREATE or DROP tables\n",
        "  It takes cassandra CQL queries as input and outputs the execution of the queries\n",
        "  '''\n",
        "    try:\n",
        "        session.execute(query)\n",
        "    except Exception as e:\n",
        "        print(e)\n",
        "        \n",
        "        \n",
        "def execute_select_query(query):\n",
        "  ''' \n",
        "  This function will act as a short cut to execute CREATE or DROP tables\n",
        "  It takes cassandra CQL queries as input and outputs the execution of the queries\n",
        "  '''\n",
        "    try:\n",
        "        rows = session.execute(query)\n",
        "    except Exception as e:\n",
        "        print(e)\n",
        "\n",
        "# Convert tuple into a list to see values\n",
        "    for row in rows:\n",
        "        \n",
        "        print (list(row))"
      ],
      "execution_count": 0,
      "outputs": []
    },
    {
      "cell_type": "markdown",
      "metadata": {
        "editable": true,
        "id": "v8T3xaoz6ksO",
        "colab_type": "text"
      },
      "source": [
        "***\n",
        "### Note:\n",
        "The table we need to create to answer the first question will use artist_name, song_name, song_length. \n",
        "\n",
        "I am not sure if I can use random names that don't match with what's inside the database columns. Hmm. To be safe, I will use song, length, and the rest of the column names as described in the csv file.\n",
        "\n",
        "In addition, sessionId, itemInSession will be used as partition and primary keys.\n",
        "\n",
        "The reason we use them together because sessionId alone is not unique, you need iteminsession to make it unique and easy to use with queries.\n",
        "***"
      ]
    },
    {
      "cell_type": "code",
      "metadata": {
        "editable": true,
        "id": "6ro_49vt6ksO",
        "colab_type": "code",
        "colab": {}
      },
      "source": [
        "## The code below Answers Question 1:  Give me the artist, song title and song's length in the music app history that was heard during \\\n",
        "## sessionId = 338, and itemInSession = 4\n",
        "\n",
        "execute_create_drop_query(\"\"\"\n",
        "    CREATE TABLE IF NOT EXISTS song_sessions (\n",
        "        sessionId int,\n",
        "        itemInSession int,\n",
        "        artist text,\n",
        "        song text,\n",
        "        length float,\n",
        "        PRIMARY KEY (sessionId, itemInSession)\n",
        "    )\n",
        "\"\"\")    "
      ],
      "execution_count": 0,
      "outputs": []
    },
    {
      "cell_type": "code",
      "metadata": {
        "editable": true,
        "id": "zGSvJia-6ksQ",
        "colab_type": "code",
        "colab": {}
      },
      "source": [
        "# The code below will do the insertion tasks\n",
        "file = 'event_datafile_new.csv'\n",
        "\n",
        "# Inserting data into song_plays_by_session\n",
        "with open(file, encoding = 'utf8') as f:\n",
        "    csvreader = csv.reader(f)\n",
        "    next(csvreader) # skip header\n",
        "    for line in csvreader:\n",
        "        query = \"INSERT INTO song_sessions (sessionId, itemInSession, artist, song, length)\"\n",
        "        query = query + \" VALUES (%s, %s, %s, %s, %s)\"\n",
        "        session.execute(query, (int(line[8]), int(line[3]), line[0], line[9], float(line[5])))"
      ],
      "execution_count": 0,
      "outputs": []
    },
    {
      "cell_type": "markdown",
      "metadata": {
        "editable": true,
        "id": "I6vdv0Ni6ksR",
        "colab_type": "text"
      },
      "source": [
        "#### Do a SELECT to verify that the data have been inserted into each table"
      ]
    },
    {
      "cell_type": "code",
      "metadata": {
        "editable": true,
        "scrolled": true,
        "id": "9ewDHYH_6ksS",
        "colab_type": "code",
        "colab": {},
        "outputId": "b8b7e875-cba6-4dd9-96bf-1be27a4bbe43"
      },
      "source": [
        "## a SELECT statement to verify the data was entered into the table\n",
        "execute_select_query(\"\"\"\n",
        "    SELECT artist, song, length\n",
        "    FROM song_sessions\n",
        "    WHERE sessionId=338 AND itemInSession=4\n",
        "\"\"\")"
      ],
      "execution_count": 0,
      "outputs": [
        {
          "output_type": "stream",
          "text": [
            "['Faithless', 'Music Matters (Mark Knight Dub)', 495.30731201171875]\n"
          ],
          "name": "stdout"
        }
      ]
    },
    {
      "cell_type": "markdown",
      "metadata": {
        "editable": true,
        "id": "xKumM5qN6ksU",
        "colab_type": "text"
      },
      "source": [
        "as we can see, we have retrieved the data as expected; Our query answers question 1. \n",
        "\n",
        "#### This is the end of question 1 task\n",
        "\n",
        "***\n",
        "##  Question 2:\n",
        "question 2 asks the following:\n",
        "\n",
        "2. Give me the name of artist, song (sorted by itemInSession) and user (first and last name) for userid = 10, sessionid = 182\n"
      ]
    },
    {
      "cell_type": "markdown",
      "metadata": {
        "editable": true,
        "id": "AzjMsWG66ksU",
        "colab_type": "text"
      },
      "source": [
        "to answer this question, similar to the work we have done above, we need to create user_session table with the following columns:\n",
        "\n",
        "        userId int,\n",
        "        sessionId int,\n",
        "        itemInSession int,\n",
        "        artist text,\n",
        "        song text,\n",
        "        firstName text,\n",
        "        lastName text,\n",
        "        \n",
        "the primary key should be the userId and the clustering should be done using the session id and iteminsession\n",
        "***"
      ]
    },
    {
      "cell_type": "code",
      "metadata": {
        "editable": true,
        "id": "wnIuFyud6ksV",
        "colab_type": "code",
        "colab": {}
      },
      "source": [
        "## TO-DO: Query 2: Give me only the following: name of artist, song (sorted by itemInSession) and user (first and last name)\\\n",
        "## for userid = 10, sessionid = 182\n",
        "execute_create_drop_query(\"\"\"\n",
        "    CREATE TABLE IF NOT EXISTS user_session (\n",
        "        userId int,\n",
        "        sessionId int,\n",
        "        itemInSession int,\n",
        "        artist text,\n",
        "        song text,\n",
        "        firstName text,\n",
        "        lastName text,\n",
        "        PRIMARY KEY (userId, sessionId, itemInSession)\n",
        "    )\n",
        "\"\"\")\n",
        "\n",
        "                    "
      ],
      "execution_count": 0,
      "outputs": []
    },
    {
      "cell_type": "code",
      "metadata": {
        "editable": true,
        "id": "LpCINoIi6ksW",
        "colab_type": "code",
        "colab": {}
      },
      "source": [
        "#inserting data\n",
        "file = 'event_datafile_new.csv'\n",
        "\n",
        "# Insert expected data into song_plays_by_user_session\n",
        "with open(file, encoding = 'utf8') as f:\n",
        "    csvreader = csv.reader(f)\n",
        "    next(csvreader) # skip header\n",
        "    for line in csvreader:\n",
        "        query = \"INSERT INTO user_session (userId, sessionId, itemInSession, artist, song, firstName, lastName)\"\n",
        "        query = query + \" VALUES (%s, %s, %s, %s, %s, %s, %s)\"\n",
        "        session.execute(query, (int(line[10]), int(line[8]), int(line[3]), line[0], line[9], line[1], line[4]))"
      ],
      "execution_count": 0,
      "outputs": []
    },
    {
      "cell_type": "code",
      "metadata": {
        "editable": true,
        "id": "_tjZjimH6ksY",
        "colab_type": "code",
        "colab": {},
        "outputId": "94413619-d5dd-41b9-ea3a-44d271ba628c"
      },
      "source": [
        "#executing select query \n",
        "execute_select_query(\"\"\"\n",
        "    SELECT itemInSession, artist, song, firstName, lastName\n",
        "    FROM user_session \n",
        "    WHERE userId=10 AND sessionId=182\n",
        "\"\"\")"
      ],
      "execution_count": 0,
      "outputs": [
        {
          "output_type": "stream",
          "text": [
            "[0, 'Down To The Bone', \"Keep On Keepin' On\", 'Sylvie', 'Cruz']\n",
            "[1, 'Three Drives', 'Greece 2000', 'Sylvie', 'Cruz']\n",
            "[2, 'Sebastien Tellier', 'Kilometer', 'Sylvie', 'Cruz']\n",
            "[3, 'Lonnie Gordon', 'Catch You Baby (Steve Pitron & Max Sanna Radio Edit)', 'Sylvie', 'Cruz']\n"
          ],
          "name": "stdout"
        }
      ]
    },
    {
      "cell_type": "markdown",
      "metadata": {
        "editable": true,
        "id": "JEgGOJ3T6ksa",
        "colab_type": "text"
      },
      "source": [
        "#### Note:\n",
        "as we can see, we have retrieved the data as expected; Our query answers question 2. our method works! let's move to Q3\n",
        "***"
      ]
    },
    {
      "cell_type": "markdown",
      "metadata": {
        "editable": true,
        "id": "qvUM_yRf6ksb",
        "colab_type": "text"
      },
      "source": [
        "\n",
        "####  question 3 asks the following:\n",
        "\n",
        "3. Give me every user name (first and last) in my music app history who listened to the song 'All Hands Against His Own'\n",
        "\n"
      ]
    },
    {
      "cell_type": "markdown",
      "metadata": {
        "editable": true,
        "id": "0kfxf1Af6ksb",
        "colab_type": "text"
      },
      "source": [
        "\n",
        "to answer this question, similar to the work we have done above, we need to create user_session table with the following columns:\n",
        "\n",
        "        song text,\n",
        "        userId int,\n",
        "        firstName text,\n",
        "        lastName text,\n",
        "        \n",
        "the primary key should be the song and userId\n",
        "***"
      ]
    },
    {
      "cell_type": "code",
      "metadata": {
        "editable": true,
        "id": "BDqkz29v6ksc",
        "colab_type": "code",
        "colab": {}
      },
      "source": [
        "## The code below answers Query 3: 'Give me every user name (first and last) in my music app history who listened to the song 'All Hands Against His Own''\n",
        "execute_create_drop_query(\"\"\"\n",
        "    CREATE TABLE IF NOT EXISTS username_retrieve (\n",
        "        song text,\n",
        "        userId int,\n",
        "        firstName text,\n",
        "        lastName text,\n",
        "        PRIMARY KEY (song, userId)\n",
        "    )\n",
        "\"\"\")\n",
        "\n",
        "file = 'event_datafile_new.csv'\n",
        "\n",
        "# This code inserts expected data into users_by_song_listens\n",
        "with open(file, encoding = 'utf8') as f:\n",
        "    csvreader = csv.reader(f)\n",
        "    next(csvreader) # skip header\n",
        "    for line in csvreader:\n",
        "        query = \"INSERT INTO username_retrieve (song, userId, firstName, lastName)\"\n",
        "        query = query + \" VALUES (%s, %s, %s, %s)\"\n",
        "        session.execute(query, (line[9], int(line[10]), line[1], line[4]))                    "
      ],
      "execution_count": 0,
      "outputs": []
    },
    {
      "cell_type": "code",
      "metadata": {
        "editable": true,
        "id": "TJ-o1D6d6ksf",
        "colab_type": "code",
        "colab": {},
        "outputId": "9e5f18c9-ae39-4452-b9b4-f43e015ce56c"
      },
      "source": [
        "#This code performs the select query\n",
        "execute_select_query(\"\"\"\n",
        "    SELECT userId, firstName, lastName\n",
        "    FROM username_retrieve\n",
        "    WHERE song='All Hands Against His Own'\n",
        "\"\"\")"
      ],
      "execution_count": 0,
      "outputs": [
        {
          "output_type": "stream",
          "text": [
            "[29, 'Jacqueline', 'Lynch']\n",
            "[80, 'Tegan', 'Levine']\n",
            "[95, 'Sara', 'Johnson']\n"
          ],
          "name": "stdout"
        }
      ]
    },
    {
      "cell_type": "markdown",
      "metadata": {
        "editable": true,
        "id": "Woh2KRcR6ksh",
        "colab_type": "text"
      },
      "source": [
        "***\n",
        "\n",
        "As we can see above, the select queries have retrieved the required information. We are done!"
      ]
    },
    {
      "cell_type": "markdown",
      "metadata": {
        "editable": true,
        "id": "8pI4IK-h6ksi",
        "colab_type": "text"
      },
      "source": [
        "### Drop the tables before closing out the sessions"
      ]
    },
    {
      "cell_type": "code",
      "metadata": {
        "editable": true,
        "id": "dT7HnCqO6ksk",
        "colab_type": "code",
        "colab": {}
      },
      "source": [
        "#The code below drops the tables that we created\n",
        "\n",
        "execute_create_drop_query(\"DROP TABLE IF EXISTS song_sessions\")\n",
        "\n",
        "execute_create_drop_query(\"DROP TABLE IF EXISTS user_session\")\n",
        "\n",
        "\n",
        "\n",
        "execute_create_drop_query(\"DROP TABLE IF EXISTS username_retrieve\")\n"
      ],
      "execution_count": 0,
      "outputs": []
    },
    {
      "cell_type": "markdown",
      "metadata": {
        "editable": true,
        "id": "6Zs3JOgx6ksl",
        "colab_type": "text"
      },
      "source": [
        "### Close the session and cluster connection¶"
      ]
    },
    {
      "cell_type": "code",
      "metadata": {
        "editable": true,
        "id": "pkm4kUvQ6ksm",
        "colab_type": "code",
        "colab": {}
      },
      "source": [
        "#the code below shuts down the session and the cluster we created\n",
        "session.shutdown()\n",
        "cluster.shutdown()"
      ],
      "execution_count": 0,
      "outputs": []
    },
    {
      "cell_type": "code",
      "metadata": {
        "editable": true,
        "id": "axOPdea_6ksn",
        "colab_type": "code",
        "colab": {}
      },
      "source": [
        ""
      ],
      "execution_count": 0,
      "outputs": []
    },
    {
      "cell_type": "code",
      "metadata": {
        "editable": true,
        "id": "dC0Z80xR6kso",
        "colab_type": "code",
        "colab": {}
      },
      "source": [
        ""
      ],
      "execution_count": 0,
      "outputs": []
    }
  ]
}